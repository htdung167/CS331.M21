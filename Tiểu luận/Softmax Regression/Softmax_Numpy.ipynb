{
  "nbformat": 4,
  "nbformat_minor": 0,
  "metadata": {
    "colab": {
      "name": "Softmax_Numpy.ipynb",
      "provenance": [],
      "collapsed_sections": []
    },
    "kernelspec": {
      "name": "python3",
      "display_name": "Python 3"
    },
    "language_info": {
      "name": "python"
    }
  },
  "cells": [
    {
      "cell_type": "markdown",
      "source": [
        "#**Softmax Regression**\n",
        "\n",
        "####**Môn học:** Thị giác máy tính nâng cao\n",
        "####**Giảng viên:** TS. Nguyễn Vinh Tiệp\n",
        "####**Lớp:** CS331.M21\n",
        "####**Thành viên nhóm:**\n",
        "| MSSV       | Họ và tên          |\n",
        "|------------|--------------------|\n",
        "| 19521388   | Hoàng Tiến Dũng    |\n",
        "| 19522410   | Nguyễn Thành Trọng |\n",
        "\n"
      ],
      "metadata": {
        "id": "LuoGFAK58g6f"
      }
    },
    {
      "cell_type": "code",
      "execution_count": null,
      "metadata": {
        "id": "ajTh4syFIPt4"
      },
      "outputs": [],
      "source": [
        "# Import các thư viện, hàm cần thiết\n",
        "from sklearn.datasets import make_blobs, make_circles\n",
        "import matplotlib.pyplot as plt\n",
        "import numpy as np\n",
        "from sklearn.model_selection import train_test_split\n",
        "from sklearn.metrics import accuracy_score"
      ]
    },
    {
      "cell_type": "code",
      "source": [
        "# Tạo dữ liệu\n",
        "## Tạo 4 cụm dữ liệu đầu vào\n",
        "xlabel0 = np.random.normal(0, 1, (2,100))\n",
        "xlabel1 = np.random.normal(5, 1, (2, 100))\n",
        "xlabel2 = np.random.normal(0, 1, (2, 100)) + np.array([[0], [5]])\n",
        "xlabel3 = np.random.normal(6, 2, (2, 100)) + np.array([[0], [-8]])\n",
        "\n",
        "## Tạo label tương ứng cho 4 cụm dữ liệu trên\n",
        "ylabel0 = np.zeros((1, 100), np.int8)\n",
        "ylabel1 = np.ones((1, 100),np.int8)\n",
        "ylabel2 = np.ones((1, 100), np.int8) * 2\n",
        "ylabel3 = np.ones((1,100), np.int8) * 3"
      ],
      "metadata": {
        "id": "Jc2cRlmYIrhE"
      },
      "execution_count": null,
      "outputs": []
    },
    {
      "cell_type": "code",
      "source": [
        "# Visualize dữ liệu sau khi tạo\n",
        "fig, ax = plt.subplots()\n",
        "ax.scatter(xlabel0[0], xlabel0[1], color='red')\n",
        "ax.scatter(xlabel1[0], xlabel1[1], color='blue')\n",
        "ax.scatter(xlabel2[0], xlabel2[1], color='yellow')\n",
        "ax.scatter(xlabel3[0], xlabel3[1], color='pink')\n",
        "plt.show()"
      ],
      "metadata": {
        "colab": {
          "base_uri": "https://localhost:8080/",
          "height": 265
        },
        "id": "HbrMGPQWvN-a",
        "outputId": "78ca0230-bf5c-4d25-af65-1495bb0d7c22"
      },
      "execution_count": null,
      "outputs": [
        {
          "output_type": "display_data",
          "data": {
            "text/plain": [
              "<Figure size 432x288 with 1 Axes>"
            ],
            "image/png": "[encoded data removed]"
          },
          "metadata": {
            "needs_background": "light"
          }
        }
      ]
    },
    {
      "cell_type": "code",
      "source": [
        "# Kết hợp các dữ liệu đã tạo\n",
        "X = np.concatenate((xlabel0, xlabel1, xlabel2, xlabel3), axis=1)\n",
        "y = np.concatenate((ylabel0, ylabel1, ylabel2, ylabel3), axis=1)[0]"
      ],
      "metadata": {
        "id": "3YDXVHJUIyKe"
      },
      "execution_count": null,
      "outputs": []
    },
    {
      "cell_type": "code",
      "source": [
        "print(f\"Shape of X: {X.shape}\\nShape of y: {y.shape}\")"
      ],
      "metadata": {
        "colab": {
          "base_uri": "https://localhost:8080/"
        },
        "id": "gmzdJqhrvsKm",
        "outputId": "d8b9208d-9e39-4a65-fd94-8a1c9e9524d0"
      },
      "execution_count": null,
      "outputs": [
        {
          "output_type": "stream",
          "name": "stdout",
          "text": [
            "Shape of X: (2, 400)\n",
            "Shape of y: (400,)\n"
          ]
        }
      ]
    },
    {
      "cell_type": "code",
      "source": [
        "# Chia bộ dữ liệu thành 2 bộ train và test với tỉ lệ 8:2\n",
        "X_train, X_test, y_train, y_test = train_test_split(X.T, y, test_size=0.25, random_state=42)\n",
        "X_train = X_train.T\n",
        "X_test = X_test.T"
      ],
      "metadata": {
        "id": "Re8r9SSJcrkS"
      },
      "execution_count": null,
      "outputs": []
    },
    {
      "cell_type": "code",
      "source": [
        "# One-hot encode cho y_train\n",
        "y_train_hot = np.eye(4)[y_train]\n",
        "y_train_hot = y_train_hot.T\n",
        "print(\"Shape of y_train_hot:\", y_train_hot.shape)"
      ],
      "metadata": {
        "id": "w_DU2pgeJ84C",
        "colab": {
          "base_uri": "https://localhost:8080/"
        },
        "outputId": "a4ba4a33-7c67-4324-ac6e-76ffa1a55a16"
      },
      "execution_count": null,
      "outputs": [
        {
          "output_type": "stream",
          "name": "stdout",
          "text": [
            "Shape of y_train_hot: (4, 300)\n"
          ]
        }
      ]
    },
    {
      "cell_type": "code",
      "source": [
        "class Softmax():\n",
        "  \"\"\"Implement Softmax Regression.\"\"\"\n",
        "  def __init__(self):\n",
        "    pass\n",
        "\n",
        "  def softmax(self, z):\n",
        "    \"\"\"Cài đặt hàm softmax.\"\"\"\n",
        "    s = np.sum(np.exp(z), axis=0, keepdims=True) # Tính tổng của các lũy thừa cơ số e\n",
        "    return np.exp(z)/s # Lấy lũy thừa cơ số e của mỗi phần tử chia cho tổng trên\n",
        "  \n",
        "  def cost_function(self, X, y, theta):\n",
        "    \"\"\"Cài đặt hàm mất mát.\"\"\"\n",
        "    m = len(X[0])\n",
        "    y_pred = self.softmax(np.dot(theta.T, X)) # Tính y_pred \n",
        "    cost = -1.0 * np.mean(np.sum(y * np.log(y_pred), axis = 0)) # Tính trung bình của cross entropy mỗi record\n",
        "    return cost\n",
        "  \n",
        "  def batch_gradient_descent(self, X, y, theta, iters, alpha):\n",
        "    \"\"\"Cập nhật theta bằng batch gradient descent.\"\"\"\n",
        "    m = len(X[0])\n",
        "    costs = [] # Mảng costs dùng để lưu cost sau mỗi iter\n",
        "    for i in range(iters):\n",
        "      y_pred = self.softmax(np.dot(theta.T,X)) # Tính y_pred\n",
        "      dtheta = np.dot(X, (y_pred - y).T) # Tính đạo hàm của theta theo hàm loss\n",
        "      theta -= alpha * 1.0 / m * dtheta # Cập nhật theta\n",
        "      cost = self.cost_function(X=X, y=y, theta=theta) # Tính và lưu cost sau mỗi iter\n",
        "      costs.append(cost)\n",
        "      if (i+1) % 10 == 0 or (i+1) == iters: # Cứ sau 10 iter hoặc iter cuối thì in cost ra\n",
        "        print(f\"Iteration: {i+1} --- cost: {cost}\")\n",
        "    return theta, costs\n",
        "\n",
        "  def fit(self, X, y, iters = 15, learning_rate=0.01):\n",
        "    \"\"\"Thực hiện huấn luyện mô hình.\"\"\"\n",
        "    m = len(X[0])\n",
        "    n = len(X) # shape X = n x m\n",
        "    c = len(y) # shape y = c x m\n",
        "    self.X = X\n",
        "    self.y = y\n",
        "    self.iters = iters\n",
        "    self.X_train = np.append(np.ones((1, m)), X, axis=0) # Thêm hệ số bias cho X_train, shape X_train = (n+1) x m\n",
        "    self.y_train = self.y # shape y_train = c x m\n",
        "    self.theta = np.zeros((n + 1, c)) # Tạo theta gồm các phần tử bằng 0 có shape = (n+1) x c\n",
        "    # Cập nhật và trả về theta, costs\n",
        "    self.theta, self.costs = self.batch_gradient_descent(self.X_train, self.y_train, self.theta, iters=iters, alpha=learning_rate)\n",
        "    return self.theta, self.costs\n",
        "\n",
        "  def visual_cost(self):\n",
        "    \"\"\"Visual loss qua từng iter với matplotlib.\"\"\"\n",
        "    fig, ax = plt.subplots()\n",
        "    ax.plot(range(self.iters), self.costs)\n",
        "    ax.set(title='Costs', xlabel= 'Iteration', ylabel='Cost')\n",
        "    plt.show()\n",
        "\n",
        "  def predict(self, X_pred, one_hot_decode=False):\n",
        "    \"\"\"Dự đoán với mô hình đã được huấn luyện.\"\"\"\n",
        "    m = len(X_pred[0])\n",
        "    n = len(self.X)\n",
        "    if n != len(X_pred): # Kiểm tra chiều của X_pred có cùng chiều với X không\n",
        "      print(\"Check your test data!\")\n",
        "      return\n",
        "    X_pred_add_one = np.append(np.ones((1, m)), X_pred, axis=0) # Thêm hệ số bias của X_pred\n",
        "    y_pred_hot = np.dot(self.theta.T, X_pred_add_one) # Dự đoán\n",
        "    if one_hot_decode==True: # One-hot decode nếu muốn\n",
        "      y_pred = np.argmax(y_pred_hot, axis=0)\n",
        "      return y_pred\n",
        "    return y_pred_hot"
      ],
      "metadata": {
        "id": "pyC-5VmLI2t-"
      },
      "execution_count": null,
      "outputs": []
    },
    {
      "cell_type": "code",
      "source": [
        "# Khởi tạo mô hình Softmax\n",
        "sm = Softmax()"
      ],
      "metadata": {
        "id": "MjUZzf7BWXra"
      },
      "execution_count": null,
      "outputs": []
    },
    {
      "cell_type": "code",
      "source": [
        "# Huấn luyện mô hình với iters=1000, learning_rate=0.01\n",
        "theta, costs = sm.fit(X_train, y_train_hot, 1000, 0.01)"
      ],
      "metadata": {
        "colab": {
          "base_uri": "https://localhost:8080/"
        },
        "id": "lH6iOgLHWatK",
        "outputId": "9fd853de-a285-44cb-8109-5390fdb7f05d"
      },
      "execution_count": null,
      "outputs": [
        {
          "output_type": "stream",
          "name": "stdout",
          "text": [
            "Iteration: 10 --- cost: 1.0338701490587918\n",
            "Iteration: 20 --- cost: 0.8646573079287585\n",
            "Iteration: 30 --- cost: 0.7672085887592055\n",
            "Iteration: 40 --- cost: 0.7027779375122046\n",
            "Iteration: 50 --- cost: 0.6562617278461007\n",
            "Iteration: 60 --- cost: 0.62065636372481\n",
            "Iteration: 70 --- cost: 0.5922393583953717\n",
            "Iteration: 80 --- cost: 0.568832171121669\n",
            "Iteration: 90 --- cost: 0.5490681574900592\n",
            "Iteration: 100 --- cost: 0.5320437315077536\n",
            "Iteration: 110 --- cost: 0.5171361933177318\n",
            "Iteration: 120 --- cost: 0.50390172833482\n",
            "Iteration: 130 --- cost: 0.4920150613058082\n",
            "Iteration: 140 --- cost: 0.4812321112426171\n",
            "Iteration: 150 --- cost: 0.4713659939191512\n",
            "Iteration: 160 --- cost: 0.46227109929537247\n",
            "Iteration: 170 --- cost: 0.4538322307486976\n",
            "Iteration: 180 --- cost: 0.4459570163904253\n",
            "Iteration: 190 --- cost: 0.43857049319019475\n",
            "Iteration: 200 --- cost: 0.4316111685803499\n",
            "Iteration: 210 --- cost: 0.42502810813887076\n",
            "Iteration: 220 --- cost: 0.4187787494351235\n",
            "Iteration: 230 --- cost: 0.4128272385860624\n",
            "Iteration: 240 --- cost: 0.40714314889576314\n",
            "Iteration: 250 --- cost: 0.40170048270987246\n",
            "Iteration: 260 --- cost: 0.3964768858908272\n",
            "Iteration: 270 --- cost: 0.39145302378957764\n",
            "Iteration: 280 --- cost: 0.3866120812054856\n",
            "Iteration: 290 --- cost: 0.38193935848441124\n",
            "Iteration: 300 --- cost: 0.37742194284645103\n",
            "Iteration: 310 --- cost: 0.3730484390844674\n",
            "Iteration: 320 --- cost: 0.36880874748960607\n",
            "Iteration: 330 --- cost: 0.36469387962193167\n",
            "Iteration: 340 --- cost: 0.36069580461779793\n",
            "Iteration: 350 --- cost: 0.3568073202964976\n",
            "Iteration: 360 --- cost: 0.3530219445291284\n",
            "Iteration: 370 --- cost: 0.34933382325726514\n",
            "Iteration: 380 --- cost: 0.3457376522666796\n",
            "Iteration: 390 --- cost: 0.3422286103823225\n",
            "Iteration: 400 --- cost: 0.33880230219223456\n",
            "Iteration: 410 --- cost: 0.33545470875766725\n",
            "Iteration: 420 --- cost: 0.33218214504524224\n",
            "Iteration: 430 --- cost: 0.3289812230401804\n",
            "Iteration: 440 --- cost: 0.32584881967944823\n",
            "Iteration: 450 --- cost: 0.3227820488892897\n",
            "Iteration: 460 --- cost: 0.3197782371301102\n",
            "Iteration: 470 --- cost: 0.3168349019485676\n",
            "Iteration: 480 --- cost: 0.3139497331162862\n",
            "Iteration: 490 --- cost: 0.3111205760002337\n",
            "Iteration: 500 --- cost: 0.3083454168641405\n",
            "Iteration: 510 --- cost: 0.3056223698455139\n",
            "Iteration: 520 --- cost: 0.30294966539049445\n",
            "Iteration: 530 --- cost: 0.30032563996036854\n",
            "Iteration: 540 --- cost: 0.29774872685007436\n",
            "Iteration: 550 --- cost: 0.2952174479813986\n",
            "Iteration: 560 --- cost: 0.2927304065524726\n",
            "Iteration: 570 --- cost: 0.2902862804412185\n",
            "Iteration: 580 --- cost: 0.28788381627404114\n",
            "Iteration: 590 --- cost: 0.2855218240827074\n",
            "Iteration: 600 --- cost: 0.2831991724823107\n",
            "Iteration: 610 --- cost: 0.28091478431176625\n",
            "Iteration: 620 --- cost: 0.2786676326856205\n",
            "Iteration: 630 --- cost: 0.2764567374122963\n",
            "Iteration: 640 --- cost: 0.2742811617393598\n",
            "Iteration: 650 --- cost: 0.2721400093911314\n",
            "Iteration: 660 --- cost: 0.2700324218680765\n",
            "Iteration: 670 --- cost: 0.26795757598097963\n",
            "Iteration: 680 --- cost: 0.2659146815960235\n",
            "Iteration: 690 --- cost: 0.2639029795696136\n",
            "Iteration: 700 --- cost: 0.2619217398541636\n",
            "Iteration: 710 --- cost: 0.2599702597581445\n",
            "Iteration: 720 --- cost: 0.2580478623455291\n",
            "Iteration: 730 --- cost: 0.25615389496137303\n",
            "Iteration: 740 --- cost: 0.25428772787168846\n",
            "Iteration: 750 --- cost: 0.2524487530070234\n",
            "Iteration: 760 --- cost: 0.2506363828002583\n",
            "Iteration: 770 --- cost: 0.2488500491101152\n",
            "Iteration: 780 --- cost: 0.24708920222273942\n",
            "Iteration: 790 --- cost: 0.24535330992448504\n",
            "Iteration: 800 --- cost: 0.2436418566397198\n",
            "Iteration: 810 --- cost: 0.24195434262807392\n",
            "Iteration: 820 --- cost: 0.24029028323610155\n",
            "Iteration: 830 --- cost: 0.2386492081988078\n",
            "Iteration: 840 --- cost: 0.2370306609869281\n",
            "Iteration: 850 --- cost: 0.23543419819623437\n",
            "Iteration: 860 --- cost: 0.23385938897548936\n",
            "Iteration: 870 --- cost: 0.23230581448998336\n",
            "Iteration: 880 --- cost: 0.23077306741786677\n",
            "Iteration: 890 --- cost: 0.2292607514767429\n",
            "Iteration: 900 --- cost: 0.22776848097821348\n",
            "Iteration: 910 --- cost: 0.2262958804082715\n",
            "Iteration: 920 --- cost: 0.2248425840316223\n",
            "Iteration: 930 --- cost: 0.22340823551817807\n",
            "Iteration: 940 --- cost: 0.22199248759012175\n",
            "Iteration: 950 --- cost: 0.2205950016880728\n",
            "Iteration: 960 --- cost: 0.21921544765501016\n",
            "Iteration: 970 --- cost: 0.217853503436718\n",
            "Iteration: 980 --- cost: 0.2165088547976234\n",
            "Iteration: 990 --- cost: 0.21518119505098562\n",
            "Iteration: 1000 --- cost: 0.21387022480247958\n"
          ]
        }
      ]
    },
    {
      "cell_type": "code",
      "source": [
        "# Visual cost của mô hình sau mỗi iter\n",
        "sm.visual_cost()"
      ],
      "metadata": {
        "colab": {
          "base_uri": "https://localhost:8080/",
          "height": 295
        },
        "id": "zX-Euc_bWeDY",
        "outputId": "d48c564b-febb-490e-bf8b-3cbc5be72565"
      },
      "execution_count": null,
      "outputs": [
        {
          "output_type": "display_data",
          "data": {
            "text/plain": [
              "<Figure size 432x288 with 1 Axes>"
            ],
            "image/png": "[encoded data removed]"
          },
          "metadata": {
            "needs_background": "light"
          }
        }
      ]
    },
    {
      "cell_type": "code",
      "source": [
        "# Predict X_test\n",
        "y_pred = sm.predict(X_test, one_hot_decode=True)"
      ],
      "metadata": {
        "id": "qjRcwm3mZCxF"
      },
      "execution_count": null,
      "outputs": []
    },
    {
      "cell_type": "code",
      "source": [
        "y_pred"
      ],
      "metadata": {
        "colab": {
          "base_uri": "https://localhost:8080/"
        },
        "id": "he4hD24heDuS",
        "outputId": "2996c6c7-ce18-4d24-8d73-f69e1695cef8"
      },
      "execution_count": null,
      "outputs": [
        {
          "output_type": "execute_result",
          "data": {
            "text/plain": [
              "array([2, 2, 0, 2, 0, 0, 3, 3, 2, 1, 2, 3, 2, 2, 1, 0, 2, 3, 2, 3, 0, 0,\n",
              "       3, 2, 3, 3, 1, 2, 2, 1, 3, 1, 2, 0, 2, 1, 1, 3, 1, 1, 3, 2, 0, 0,\n",
              "       0, 3, 1, 1, 0, 1, 0, 3, 3, 0, 3, 2, 2, 1, 0, 1, 1, 2, 2, 3, 1, 0,\n",
              "       3, 2, 3, 0, 3, 1, 0, 2, 3, 2, 2, 3, 1, 2, 0, 3, 2, 2, 2, 0, 2, 3,\n",
              "       1, 0, 2, 3, 1, 2, 1, 3, 3, 3, 2, 0])"
            ]
          },
          "metadata": {},
          "execution_count": 13
        }
      ]
    },
    {
      "cell_type": "code",
      "source": [
        "print(\"Độ chính xác mô hình qua X_test là:\", accuracy_score(y_test, y_pred))"
      ],
      "metadata": {
        "colab": {
          "base_uri": "https://localhost:8080/"
        },
        "id": "5P41_jsSb0TX",
        "outputId": "8ce63c82-7dea-44d9-914f-d829c936a028"
      },
      "execution_count": null,
      "outputs": [
        {
          "output_type": "stream",
          "name": "stdout",
          "text": [
            "Độ chính xác mô hình qua X_test là: 0.9\n"
          ]
        }
      ]
    },
    {
      "cell_type": "code",
      "source": [
        "# Visual kết quả sau khi predict\n",
        "zero0 = np.where(y_test==0)[0]\n",
        "one1 = np.where(y_test==1)[0]\n",
        "two2 = np.where(y_test==2)[0]\n",
        "three3 = np.where(y_test==3)[0]\n",
        "zero0_pred = np.where(y_pred==0)[0]\n",
        "one1_pred = np.where(y_pred==1)[0]\n",
        "two2_pred = np.where(y_pred==2)[0]\n",
        "three3_pred = np.where(y_pred==3)[0]\n",
        "\n",
        "fig, [ax1, ax2] = plt.subplots(ncols=2, nrows=1, figsize=(15, 5))\n",
        "ax1.scatter(X_test[0][zero0], X_test[1][zero0], color='red', label=\"0\")\n",
        "ax1.scatter(X_test[0][one1], X_test[1][one1], color='blue', label=\"1\")\n",
        "ax1.scatter(X_test[0][two2], X_test[1][two2], color='yellow', label=\"2\")\n",
        "ax1.scatter(X_test[0][three3], X_test[1][three3], color='pink', label=\"3\")\n",
        "ax1.set(title=\"Origin\")\n",
        "ax1.legend()\n",
        "\n",
        "ax2.scatter(X_test[0][zero0_pred], X_test[1][zero0_pred], color='red', label=\"0\")\n",
        "ax2.scatter(X_test[0][one1_pred], X_test[1][one1_pred], color='blue', label=\"1\")\n",
        "ax2.scatter(X_test[0][two2_pred], X_test[1][two2_pred], color='yellow', label=\"2\")\n",
        "ax2.scatter(X_test[0][three3_pred], X_test[1][three3_pred], color='pink', label=\"3\")\n",
        "ax2.set(title=\"Predict\")\n",
        "ax2.legend()\n",
        "\n",
        "plt.show()"
      ],
      "metadata": {
        "colab": {
          "base_uri": "https://localhost:8080/",
          "height": 336
        },
        "id": "BVA0zVj15ZG-",
        "outputId": "b5196ede-ec00-4af3-e581-95ad285c5811"
      },
      "execution_count": null,
      "outputs": [
        {
          "output_type": "display_data",
          "data": {
            "text/plain": [
              "<Figure size 1080x360 with 2 Axes>"
            ],
            "image/png": "[encoded data removed]"
          },
          "metadata": {
            "needs_background": "light"
          }
        }
      ]
    },
    {
      "cell_type": "code",
      "source": [
        ""
      ],
      "metadata": {
        "id": "A2IPkBID5Z5A"
      },
      "execution_count": null,
      "outputs": []
    }
  ]
}