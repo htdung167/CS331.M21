{
  "nbformat": 4,
  "nbformat_minor": 0,
  "metadata": {
    "colab": {
      "name": "BT4- TF.ipynb",
      "provenance": [],
      "collapsed_sections": [],
      "toc_visible": true
    },
    "kernelspec": {
      "name": "python3",
      "display_name": "Python 3"
    },
    "language_info": {
      "name": "python"
    }
  },
  "cells": [
    {
      "cell_type": "markdown",
      "source": [
        "#**Thông tin sinh viên**\n",
        "* MSSV: 19521388\n",
        "* Họ và tên: Hoàng Tiến Dũng\n",
        "* Lớp môn học: CS331.M11 - Thị giác máy tính nâng cao\n",
        "* Bài tập 4: Cài đặt Linear Regression, Logistic Regression, Softmax Regression và Neural Network bằng Tensorflow"
      ],
      "metadata": {
        "id": "954kldJGIvLb"
      }
    },
    {
      "cell_type": "markdown",
      "source": [
        "#**Bài làm**"
      ],
      "metadata": {
        "id": "NXXT-Ub8I5o2"
      }
    },
    {
      "cell_type": "code",
      "source": [
        "from sklearn.datasets import make_blobs, make_circles\n",
        "import matplotlib.pyplot as plt\n",
        "from pandas import DataFrame\n",
        "import tensorflow as tf\n",
        "import numpy as np\n",
        "from tensorflow import keras"
      ],
      "metadata": {
        "id": "fGAefVGmNBGF"
      },
      "execution_count": 12,
      "outputs": []
    },
    {
      "cell_type": "markdown",
      "source": [
        "#**I. Linear Regression TF**"
      ],
      "metadata": {
        "id": "soKMNCbQIbEh"
      }
    },
    {
      "cell_type": "code",
      "source": [
        "X = np.random.randn(100)\n",
        "e = np.random.randn(100) * 2\n",
        "y = X * 4 + e"
      ],
      "metadata": {
        "id": "x5hHzuyNFuRn"
      },
      "execution_count": null,
      "outputs": []
    },
    {
      "cell_type": "code",
      "source": [
        "fig, ax = plt.subplots()\n",
        "ax.scatter(X, y)\n",
        "plt.show()"
      ],
      "metadata": {
        "colab": {
          "base_uri": "https://localhost:8080/",
          "height": 269
        },
        "id": "fGdjTOGNG5r5",
        "outputId": "25387fb8-c7bf-45a3-e2c4-bbf26450867e"
      },
      "execution_count": null,
      "outputs": [
        {
          "output_type": "display_data",
          "data": {
            "text/plain": [
              "<Figure size 432x288 with 1 Axes>"
            ],
            "image/png": "[encoded data removed]"
          },
          "metadata": {
            "needs_background": "light"
          }
        }
      ]
    },
    {
      "cell_type": "code",
      "execution_count": null,
      "metadata": {
        "id": "Ek6d72XMyiqu"
      },
      "outputs": [],
      "source": [
        "class LinearRegression():\n",
        "  def __init__(self):\n",
        "    pass\n",
        "\n",
        "  def cost_function(self, X, y, theta):\n",
        "    y_pred = tf.matmul(tf.transpose(theta), X)\n",
        "    return 1/2 * tf.reduce_mean(tf.square(y_pred-y))\n",
        "\n",
        "  def gradient_descent(self, X, y, theta, iters , alpha):\n",
        "    m = self.X.shape[1]\n",
        "    costs = []\n",
        "    for iter in range(iters):\n",
        "      with tf.GradientTape() as t:\n",
        "        t.watch(theta)\n",
        "        cost_f = self.cost_function(X, y, theta)\n",
        "        dtheta = t.gradient(cost_f,theta)\n",
        "        theta -= alpha * dtheta\n",
        "        costs.append(cost_f)\n",
        "    costs.append(self.cost_function(X, y, theta))\n",
        "    return theta, costs\n",
        "\n",
        "  def fit(self, X, y, iters=15, learning_rate=0.01):\n",
        "    m = X.shape[1]\n",
        "    n = X.shape[0]\n",
        "    self.X = X\n",
        "    self.y = y\n",
        "    self.iters = iters\n",
        "    self.X_train = tf.convert_to_tensor(X, dtype='float32') # n x m\n",
        "    self.X_train = tf.concat([tf.ones([1, m]), self.X_train], 0) # (n+1) x m\n",
        "    self.y_train = tf.convert_to_tensor(y, dtype='float32') \n",
        "    self.y_train = tf.reshape(self.y_train, [1, m]) # 1 x m\n",
        "    self.theta = tf.zeros([n + 1, 1]) # theta = n+1 x 1\n",
        "    self.theta, self.costs = self.gradient_descent(self.X_train, self.y_train, self.theta, iters=iters, alpha = learning_rate)\n",
        "\n",
        "    return self.theta, self.costs\n",
        "  \n",
        "  def visual_cost(self):\n",
        "    fig, ax = plt.subplots()\n",
        "    ax.plot(range(self.iters + 1), self.costs)\n",
        "    ax.set(title='Costs', xlabel= 'iters', ylabel='cost')\n",
        "    plt.show()\n",
        "  \n",
        "  def visual_class(self):\n",
        "    fig, ax = plt.subplots()\n",
        "    ax.scatter(self.X, self.y)\n",
        "    x = np.linspace(np.min(self.X), np.max(self.X), 1000)\n",
        "    ax.plot(x, self.theta[1] * x + theta[0], c='red')\n",
        "    plt.show()"
      ]
    },
    {
      "cell_type": "code",
      "source": [
        "lr = LinearRegression()"
      ],
      "metadata": {
        "id": "0StI-f1sJwkj"
      },
      "execution_count": null,
      "outputs": []
    },
    {
      "cell_type": "code",
      "source": [
        "X_t = X.reshape([1, -1])"
      ],
      "metadata": {
        "id": "hf-9qR51J6oS"
      },
      "execution_count": null,
      "outputs": []
    },
    {
      "cell_type": "code",
      "source": [
        "y_t = y.reshape([1, -1])"
      ],
      "metadata": {
        "id": "GkplmSLEKNKl"
      },
      "execution_count": null,
      "outputs": []
    },
    {
      "cell_type": "code",
      "source": [
        "theta, costs = lr.fit(X_t, y_t, 1000, 0.1)"
      ],
      "metadata": {
        "id": "xBoPpaMtJzPp"
      },
      "execution_count": null,
      "outputs": []
    },
    {
      "cell_type": "code",
      "source": [
        "lr.visual_cost()"
      ],
      "metadata": {
        "colab": {
          "base_uri": "https://localhost:8080/",
          "height": 295
        },
        "id": "qs94P-i0LRLZ",
        "outputId": "851d3cb9-c993-4a10-9b10-6f5041c9b3af"
      },
      "execution_count": null,
      "outputs": [
        {
          "output_type": "display_data",
          "data": {
            "text/plain": [
              "<Figure size 432x288 with 1 Axes>"
            ],
            "image/png": "[encoded data removed]"
          },
          "metadata": {
            "needs_background": "light"
          }
        }
      ]
    },
    {
      "cell_type": "code",
      "source": [
        "lr.visual_class()"
      ],
      "metadata": {
        "colab": {
          "base_uri": "https://localhost:8080/",
          "height": 269
        },
        "id": "mq2hF_fFLUPd",
        "outputId": "46be07a6-ca40-42e7-c757-a6bcb3d3f1ba"
      },
      "execution_count": null,
      "outputs": [
        {
          "output_type": "display_data",
          "data": {
            "text/plain": [
              "<Figure size 432x288 with 1 Axes>"
            ],
            "image/png": "[encoded data removed]"
          },
          "metadata": {
            "needs_background": "light"
          }
        }
      ]
    },
    {
      "cell_type": "markdown",
      "source": [
        "#**II. Logistic Regression TF**"
      ],
      "metadata": {
        "id": "OeXxfm8oy77Q"
      }
    },
    {
      "cell_type": "code",
      "source": [
        "# Generate data\n",
        "X, y = make_blobs(n_samples=500, centers=2, n_features=2, random_state=0)\n",
        "zero0 = np.where(y==0)[0]\n",
        "one1 = np.where(y==1)[0]\n",
        "# print(zero0)\n",
        "# print(one1)\n",
        "fig, ax = plt.subplots()\n",
        "ax.scatter(X[zero0, 0], X[zero0, 1], c='red', label=\"0\")\n",
        "ax.scatter(X[one1, 0], X[one1, 1], c='blue', label=\"1\")\n",
        "ax.legend()\n",
        "plt.show()"
      ],
      "metadata": {
        "colab": {
          "base_uri": "https://localhost:8080/",
          "height": 265
        },
        "id": "8Vfo-6XR6qKd",
        "outputId": "a2248b90-073e-46f2-b3e7-7b3746830d16"
      },
      "execution_count": null,
      "outputs": [
        {
          "output_type": "display_data",
          "data": {
            "text/plain": [
              "<Figure size 432x288 with 1 Axes>"
            ],
            "image/png": "[encoded data removed]"
          },
          "metadata": {
            "needs_background": "light"
          }
        }
      ]
    },
    {
      "cell_type": "code",
      "source": [
        "X = X.T\n",
        "y = y.reshape([1, -1])"
      ],
      "metadata": {
        "id": "WqtDgJkLQ6HE"
      },
      "execution_count": null,
      "outputs": []
    },
    {
      "cell_type": "code",
      "source": [
        "X.shape"
      ],
      "metadata": {
        "colab": {
          "base_uri": "https://localhost:8080/"
        },
        "id": "y4bEKk1mRkTO",
        "outputId": "ca6174ab-9b64-4dcc-cfab-a55ab2604c38"
      },
      "execution_count": null,
      "outputs": [
        {
          "output_type": "execute_result",
          "data": {
            "text/plain": [
              "(2, 500)"
            ]
          },
          "metadata": {},
          "execution_count": 629
        }
      ]
    },
    {
      "cell_type": "code",
      "source": [
        "y.shape"
      ],
      "metadata": {
        "colab": {
          "base_uri": "https://localhost:8080/"
        },
        "id": "xTq-tKQIRlUL",
        "outputId": "7acffa85-fdf1-4e35-a3c9-d4845c223302"
      },
      "execution_count": null,
      "outputs": [
        {
          "output_type": "execute_result",
          "data": {
            "text/plain": [
              "(1, 500)"
            ]
          },
          "metadata": {},
          "execution_count": 630
        }
      ]
    },
    {
      "cell_type": "code",
      "source": [
        "class LogisticRegression():\n",
        "  def __init__(self):\n",
        "    pass\n",
        "\n",
        "  def sigmoid(self, z):\n",
        "    return 1.0/(1.0 + tf.math.exp(-z))\n",
        "\n",
        "  def cost_function(self, X, y, theta):\n",
        "    m = X.shape[1]\n",
        "    y_pred = self.sigmoid(tf.matmul(tf.transpose(theta), X))\n",
        "    cost = -1.0* tf.reduce_mean((y*tf.math.log(y_pred) + (1-y)*tf.math.log(1-y_pred)))\n",
        "    return cost\n",
        "\n",
        "  def gradient_descent(self, X, y, theta, iters , alpha ):\n",
        "    m = X.shape[1]\n",
        "    costs = []\n",
        "    for i in range(iters):\n",
        "      with tf.GradientTape() as tape:\n",
        "        tape.watch(theta)\n",
        "        cost = self.cost_function(X=X, y=y, theta=theta)\n",
        "        dtheta = tape.gradient(cost, theta)\n",
        "        theta -= alpha * dtheta\n",
        "        costs.append(cost)\n",
        "    costs.append(self.cost_function(X=X, y=y, theta=theta))\n",
        "    return theta, costs\n",
        "\n",
        "  def fit(self, X, y, iters=15, learning_rate=0.01):\n",
        "    m = X.shape[1]\n",
        "    n = X.shape[0]\n",
        "    self.X = X\n",
        "    self.y = y\n",
        "    self.iters = iters\n",
        "    self.X_train = tf.convert_to_tensor(X, dtype='float32') # n x m\n",
        "    self.X_train = tf.concat([tf.ones([1, m]), self.X_train], 0) # (n+1) x m\n",
        "    self.y_train = tf.convert_to_tensor(y, dtype='float32') # 1 x m\n",
        "    self.theta = tf.zeros([n + 1, 1]) # theta = n+1 x 1\n",
        "    self.theta, self.costs = self.gradient_descent(self.X_train, self.y_train, self.theta, iters=iters, alpha = learning_rate)\n",
        "\n",
        "    return self.theta, self.costs\n",
        "  \n",
        "  def visual_cost(self):\n",
        "    fig, ax = plt.subplots()\n",
        "    ax.plot(range(self.iters + 1), self.costs)\n",
        "    ax.set(title='Costs', xlabel= 'iters', ylabel='cost')\n",
        "    plt.show()\n",
        "  \n",
        "  def visual_class(self):\n",
        "    zero0 = np.where(self.y.T==0)[0]\n",
        "    one1 = np.where(self.y.T==1)[0]\n",
        "    fig, ax = plt.subplots()\n",
        "    ax.scatter(self.X.T[zero0, 0], self.X.T[zero0, 1], c='red', label=\"0\")\n",
        "    ax.scatter(self.X.T[one1, 0], self.X.T[one1, 1], c='blue', label=\"1\")\n",
        "    ax.legend()\n",
        "\n",
        "    x = np.linspace(np.min(self.X.T[:, 0]), np.max(self.X.T[:, 0]), 1000)\n",
        "    ax.plot(x, -(theta[1] * x + theta[0]) / theta[2])\n",
        "    plt.show()"
      ],
      "metadata": {
        "id": "zK3tDt77KxqO"
      },
      "execution_count": null,
      "outputs": []
    },
    {
      "cell_type": "code",
      "source": [
        "lg_model = LogisticRegression()"
      ],
      "metadata": {
        "id": "deaPRWISXJlv"
      },
      "execution_count": null,
      "outputs": []
    },
    {
      "cell_type": "code",
      "source": [
        "theta, costs = lg_model.fit(X, y, 1000, 0.01)"
      ],
      "metadata": {
        "id": "e12YhgSRXQAr"
      },
      "execution_count": null,
      "outputs": []
    },
    {
      "cell_type": "code",
      "source": [
        "lg_model.visual_cost()"
      ],
      "metadata": {
        "colab": {
          "base_uri": "https://localhost:8080/",
          "height": 295
        },
        "id": "vsN9hk5pbfeV",
        "outputId": "588e68fd-df21-415a-d26f-c464ca8fbcb9"
      },
      "execution_count": null,
      "outputs": [
        {
          "output_type": "display_data",
          "data": {
            "text/plain": [
              "<Figure size 432x288 with 1 Axes>"
            ],
            "image/png": "[encoded data removed]"
          },
          "metadata": {
            "needs_background": "light"
          }
        }
      ]
    },
    {
      "cell_type": "code",
      "source": [
        "lg_model.visual_class()"
      ],
      "metadata": {
        "colab": {
          "base_uri": "https://localhost:8080/",
          "height": 265
        },
        "id": "Ws0hmcEWczGW",
        "outputId": "3d4e730d-69b5-4877-e494-92b51060c675"
      },
      "execution_count": null,
      "outputs": [
        {
          "output_type": "display_data",
          "data": {
            "text/plain": [
              "<Figure size 432x288 with 1 Axes>"
            ],
            "image/png": "[encoded data removed]"
          },
          "metadata": {
            "needs_background": "light"
          }
        }
      ]
    },
    {
      "cell_type": "code",
      "source": [
        "theta"
      ],
      "metadata": {
        "colab": {
          "base_uri": "https://localhost:8080/"
        },
        "id": "AazOc2andI0F",
        "outputId": "38a8d246-e8d4-42a5-ea37-8c26c561d27b"
      },
      "execution_count": null,
      "outputs": [
        {
          "output_type": "execute_result",
          "data": {
            "text/plain": [
              "<tf.Tensor: shape=(3, 1), dtype=float32, numpy=\n",
              "array([[ 0.63407946],\n",
              "       [ 1.186493  ],\n",
              "       [-1.09369   ]], dtype=float32)>"
            ]
          },
          "metadata": {},
          "execution_count": 640
        }
      ]
    },
    {
      "cell_type": "markdown",
      "source": [
        "#**III. Softmax TF**"
      ],
      "metadata": {
        "id": "7Fqa7SAh6gwd"
      }
    },
    {
      "cell_type": "code",
      "source": [
        "# Generate data\n",
        "xlabel0 = np.random.normal(0, 1, (2,100))\n",
        "xlabel1 = np.random.normal(5, 1, (2, 100))\n",
        "xlabel2 = np.random.normal(0, 1, (2, 100)) + np.array([[0], [5]])\n",
        "xlabel3 = np.random.normal(6, 2, (2, 100)) + np.array([[0], [-8]])\n",
        "\n",
        "ylabel0 = np.zeros((1, 100), np.int8)\n",
        "ylabel1 = np.ones((1, 100),np.int8)\n",
        "ylabel2 = np.ones((1, 100), np.int8) * 2\n",
        "ylabel3 = np.ones((1,100), np.int8) * 3\n",
        "\n",
        "fig, ax = plt.subplots()\n",
        "ax.scatter(xlabel0[0], xlabel0[1], color='red')\n",
        "ax.scatter(xlabel1[0], xlabel1[1], color='blue')\n",
        "ax.scatter(xlabel2[0], xlabel2[1], color='yellow')\n",
        "ax.scatter(xlabel3[0], xlabel3[1], color='pink')\n",
        "plt.show()"
      ],
      "metadata": {
        "colab": {
          "base_uri": "https://localhost:8080/",
          "height": 265
        },
        "id": "H4k7RDMCi1Nl",
        "outputId": "f5ca6d44-d9f4-4073-f238-d6d6788e28d7"
      },
      "execution_count": null,
      "outputs": [
        {
          "output_type": "display_data",
          "data": {
            "text/plain": [
              "<Figure size 432x288 with 1 Axes>"
            ],
            "image/png": "[encoded data removed]"
          },
          "metadata": {
            "needs_background": "light"
          }
        }
      ]
    },
    {
      "cell_type": "code",
      "source": [
        "X = np.concatenate((xlabel0, xlabel1, xlabel2, xlabel3), axis=1)\n",
        "X.shape"
      ],
      "metadata": {
        "colab": {
          "base_uri": "https://localhost:8080/"
        },
        "id": "S49r__gbmnMn",
        "outputId": "84764ce6-3865-4cd9-c9cf-55434f477fdd"
      },
      "execution_count": null,
      "outputs": [
        {
          "output_type": "execute_result",
          "data": {
            "text/plain": [
              "(2, 400)"
            ]
          },
          "metadata": {},
          "execution_count": 221
        }
      ]
    },
    {
      "cell_type": "code",
      "source": [
        "ylabel = np.concatenate((ylabel0, ylabel1, ylabel2, ylabel3), axis=1)\n",
        "ylabel.shape"
      ],
      "metadata": {
        "colab": {
          "base_uri": "https://localhost:8080/"
        },
        "id": "1beQNuvamGjU",
        "outputId": "f9261b66-485c-48b9-9a81-65a23e0e9263"
      },
      "execution_count": null,
      "outputs": [
        {
          "output_type": "execute_result",
          "data": {
            "text/plain": [
              "(1, 400)"
            ]
          },
          "metadata": {},
          "execution_count": 222
        }
      ]
    },
    {
      "cell_type": "code",
      "source": [
        "#one hot\n",
        "y = np.eye(4)[ylabel[0,:]]\n",
        "y = y.T"
      ],
      "metadata": {
        "id": "iukabwexm_8q"
      },
      "execution_count": null,
      "outputs": []
    },
    {
      "cell_type": "code",
      "source": [
        "class Softmax():\n",
        "  def __init__(self):\n",
        "    pass\n",
        "\n",
        "  def softmax(self, z):\n",
        "    s = tf.reduce_sum(tf.math.exp(z), axis=0)\n",
        "    return tf.math.exp(z)/s\n",
        "\n",
        "  def cost_function(self, X, y, theta):\n",
        "    m = len(y)\n",
        "    y_pred = self.softmax(tf.matmul(tf.transpose(theta), X))\n",
        "    cost = -1.0 * tf.reduce_mean(tf.reduce_sum((y*tf.math.log(y_pred)), axis=0, keepdims=True))\n",
        "    return cost\n",
        "\n",
        "  # def gradient_descent(self, X, y, theta, iters , alpha ):\n",
        "  #   m = len(y)\n",
        "  #   costs = []\n",
        "  #   for i in range(iters):\n",
        "  #     with tf.GradientTape() as tape:\n",
        "  #       tape.watch(theta)     \n",
        "  #       cost = self.cost_function(X=X, y=y, theta=theta)\n",
        "  #       dtheta = tape.gradient(cost, theta)\n",
        "  #       theta -= alpha * dtheta\n",
        "  #       costs.append(cost)\n",
        "  #   costs.append(self.cost_function(X=X, y=y, theta=theta))\n",
        "  #   return theta, costs\n",
        "\n",
        "  def gradient_descent(self, X, y, theta, iters , alpha ):\n",
        "    optimizer = keras.optimizers.SGD(learning_rate=alpha)\n",
        "    m = len(y)\n",
        "    costs = []\n",
        "    for i in range(iters):\n",
        "      with tf.GradientTape() as tape:\n",
        "        tape.watch(theta)     \n",
        "        cost = self.cost_function(X=X, y=y, theta=theta)\n",
        "        dtheta = tape.gradient(cost, theta)\n",
        "        optimizer.apply_gradients(zip([dtheta], [theta]))\n",
        "        costs.append(cost)\n",
        "      # print(theta)\n",
        "    costs.append(self.cost_function(X=X, y=y, theta=theta))\n",
        "    return theta, costs\n",
        "\n",
        "  def fit(self, X, y, iters=15, learning_rate=0.01):\n",
        "    m = 400\n",
        "    n = 2\n",
        "    self.X = X\n",
        "    self.y = y\n",
        "    self.iters = iters\n",
        "    self.X_train = tf.convert_to_tensor(X, dtype='float32') # n x m\n",
        "    self.X_train = tf.concat([tf.ones([1, m]), self.X_train], 0) # (n+1) x m\n",
        "    self.y_train = tf.convert_to_tensor(y, dtype='float32') \n",
        "    self.y_train = tf.reshape(self.y_train, [4, m]) # 4 x m\n",
        "    self.theta = tf.Variable(tf.zeros([n + 1, 4])) # theta = n+1 x 4\n",
        "    self.theta, self.costs = self.gradient_descent(self.X_train, self.y_train, self.theta, iters=iters, alpha = learning_rate)\n",
        "\n",
        "    return self.theta, self.costs\n",
        "  \n",
        "  def visual_cost(self):\n",
        "    fig, ax = plt.subplots()\n",
        "    ax.plot(range(self.iters + 1), self.costs)\n",
        "    ax.set(title='Costs', xlabel= 'iters', ylabel='cost')\n",
        "    plt.show()\n",
        "  \n",
        "  def visual_class(self):\n",
        "    self.X_v = self.X.T\n",
        "    self.y_v = self.y.T\n",
        "    self.y_v = np.argmax(self.y_v, axis=1)\n",
        "    zero0 = np.where(self.y_v==0)[0]\n",
        "    one1 = np.where(self.y_v==1)[0]\n",
        "    two2 = np.where(self.y_v==2)[0]\n",
        "    three3 = np.where(self.y_v==3)[0]\n",
        "    fig, ax = plt.subplots()\n",
        "    ax.scatter(self.X_v[zero0, 0], self.X_v[zero0, 1], c='red', label=\"0\")\n",
        "    ax.scatter(self.X_v[one1, 0], self.X_v[one1, 1], c='blue', label=\"1\")\n",
        "    ax.scatter(self.X_v[two2, 0], self.X_v[two2, 1], c='yellow', label=\"2\")\n",
        "    ax.scatter(self.X_v[three3, 0], self.X_v[three3, 1], c='pink', label=\"3\")\n",
        "    ax.legend()\n",
        "\n",
        "    tt = self.theta.numpy().T\n",
        "    lst_lins = []\n",
        "    lst_lins.append(np.linspace(np.min(self.X_v[zero0, 0]), np.max(self.X_v[zero0, 0]), 1000))\n",
        "    lst_lins.append(np.linspace(np.min(self.X_v[one1, 0]), np.max(self.X_v[one1, 0]), 1000))\n",
        "    lst_lins.append(np.linspace(np.min(self.X_v[two2, 0]), np.max(self.X_v[two2, 0]), 1000))\n",
        "    lst_lins.append(np.linspace(np.min(self.X_v[three3, 0]), np.max(self.X_v[three3, 0]), 1000))\n",
        "    v = 0\n",
        "    for line in tt:\n",
        "      # print(line)\n",
        "      x = lst_lins[v]\n",
        "      v += 1\n",
        "      # print(x)\n",
        "      ax.plot(x, -(line[1] * x + line[0]) / line[2])\n",
        "    plt.show()"
      ],
      "metadata": {
        "id": "_ACJPZsNrOjr"
      },
      "execution_count": null,
      "outputs": []
    },
    {
      "cell_type": "code",
      "source": [
        "print(y.T.shape)"
      ],
      "metadata": {
        "colab": {
          "base_uri": "https://localhost:8080/"
        },
        "id": "ldWlw38Rh5B7",
        "outputId": "dd0d1d0a-f5f8-4bff-8387-148ff7a563de"
      },
      "execution_count": null,
      "outputs": [
        {
          "output_type": "stream",
          "name": "stdout",
          "text": [
            "(400, 4)\n"
          ]
        }
      ]
    },
    {
      "cell_type": "code",
      "source": [
        "sm_model = Softmax()"
      ],
      "metadata": {
        "id": "sqrg3tYNziPo"
      },
      "execution_count": null,
      "outputs": []
    },
    {
      "cell_type": "code",
      "source": [
        "theta, costs = sm_model.fit(X, y, 50,0.01)"
      ],
      "metadata": {
        "id": "777J1t-I33Pw"
      },
      "execution_count": null,
      "outputs": []
    },
    {
      "cell_type": "code",
      "source": [
        "sm_model.visual_cost()"
      ],
      "metadata": {
        "colab": {
          "base_uri": "https://localhost:8080/",
          "height": 295
        },
        "id": "Hq8CoZfFzjeP",
        "outputId": "4420350a-f2aa-40f9-ec69-77abf2b0356a"
      },
      "execution_count": null,
      "outputs": [
        {
          "output_type": "display_data",
          "data": {
            "text/plain": [
              "<Figure size 432x288 with 1 Axes>"
            ],
            "image/png": "[encoded data removed]"
          },
          "metadata": {
            "needs_background": "light"
          }
        }
      ]
    },
    {
      "cell_type": "code",
      "source": [
        "theta"
      ],
      "metadata": {
        "colab": {
          "base_uri": "https://localhost:8080/"
        },
        "id": "5BkfXsGmySDx",
        "outputId": "c27440d3-f9b7-46c0-88f6-736470b2522e"
      },
      "execution_count": null,
      "outputs": [
        {
          "output_type": "execute_result",
          "data": {
            "text/plain": [
              "<tf.Variable 'Variable:0' shape=(3, 4) dtype=float32, numpy=\n",
              "array([[ 0.1249999 ,  0.1249999 ,  0.1249999 ,  0.1249999 ],\n",
              "       [ 0.01102853,  0.6358314 , -0.0229449 ,  0.78076714],\n",
              "       [ 0.01828302,  0.6216644 ,  0.63179725, -0.23554932]],\n",
              "      dtype=float32)>"
            ]
          },
          "metadata": {},
          "execution_count": 274
        }
      ]
    },
    {
      "cell_type": "markdown",
      "source": [
        "#**IV. Neural Network TF**"
      ],
      "metadata": {
        "id": "1RTT0Lo46lCi"
      }
    },
    {
      "cell_type": "code",
      "source": [
        "# Generate data\n",
        "X, y = make_circles(n_samples = 1000, noise = 0.1, factor = 0.3)\n",
        "zero0 = np.where(y==0)[0]\n",
        "one1 = np.where(y==1)[0]\n",
        "fig, ax = plt.subplots()\n",
        "ax.scatter(X[zero0, 0], X[zero0, 1], c='red', label=\"0\")\n",
        "ax.scatter(X[one1, 0], X[one1, 1], c='blue', label=\"1\")\n",
        "ax.legend()\n",
        "plt.show()"
      ],
      "metadata": {
        "colab": {
          "base_uri": "https://localhost:8080/",
          "height": 265
        },
        "id": "EtaYX71r6poV",
        "outputId": "dd7a65d4-62d1-42f2-e1dc-52bc88999287"
      },
      "execution_count": null,
      "outputs": [
        {
          "output_type": "display_data",
          "data": {
            "text/plain": [
              "<Figure size 432x288 with 1 Axes>"
            ],
            "image/png": "[encoded data removed]"
          },
          "metadata": {
            "needs_background": "light"
          }
        }
      ]
    },
    {
      "cell_type": "code",
      "source": [
        "# Tạo model\n",
        "from tensorflow.keras import layers, Sequential, Input\n",
        "from tensorflow import keras\n",
        "\n",
        "model = Sequential()\n",
        "# model.add(Input(shape=(input_shape)))\n",
        "model.add(layers.Dense(5, activation='softmax', input_shape=(2,)))\n",
        "model.add(layers.Dense(1, activation='sigmoid'))\n",
        "\n",
        "iters = 50\n",
        "lr = 0.1\n",
        "model.compile(optimizer = keras.optimizers.SGD(learning_rate=lr), loss='binary_crossentropy', metrics=['accuracy'])"
      ],
      "metadata": {
        "id": "UHyUS2DErZYZ"
      },
      "execution_count": null,
      "outputs": []
    },
    {
      "cell_type": "code",
      "source": [
        "#Training\n",
        "history = model.fit(X, y, epochs=iters)"
      ],
      "metadata": {
        "colab": {
          "base_uri": "https://localhost:8080/"
        },
        "id": "XfDERFMq3AWp",
        "outputId": "d89f5eba-aa08-44a7-d8b6-9e417bc8842b"
      },
      "execution_count": null,
      "outputs": [
        {
          "output_type": "stream",
          "name": "stdout",
          "text": [
            "Epoch 1/50\n",
            "32/32 [==============================] - 1s 5ms/step - loss: 0.6914 - accuracy: 0.5390\n",
            "Epoch 2/50\n",
            "32/32 [==============================] - 0s 3ms/step - loss: 0.6912 - accuracy: 0.5690\n",
            "Epoch 3/50\n",
            "32/32 [==============================] - 0s 4ms/step - loss: 0.6908 - accuracy: 0.5790\n",
            "Epoch 4/50\n",
            "32/32 [==============================] - 0s 4ms/step - loss: 0.6905 - accuracy: 0.5760\n",
            "Epoch 5/50\n",
            "32/32 [==============================] - 0s 3ms/step - loss: 0.6904 - accuracy: 0.5970\n",
            "Epoch 6/50\n",
            "32/32 [==============================] - 0s 4ms/step - loss: 0.6898 - accuracy: 0.5560\n",
            "Epoch 7/50\n",
            "32/32 [==============================] - 0s 3ms/step - loss: 0.6894 - accuracy: 0.5260\n",
            "Epoch 8/50\n",
            "32/32 [==============================] - 0s 4ms/step - loss: 0.6889 - accuracy: 0.4620\n",
            "Epoch 9/50\n",
            "32/32 [==============================] - 0s 4ms/step - loss: 0.6885 - accuracy: 0.6200\n",
            "Epoch 10/50\n",
            "32/32 [==============================] - 0s 4ms/step - loss: 0.6884 - accuracy: 0.6020\n",
            "Epoch 11/50\n",
            "32/32 [==============================] - 0s 4ms/step - loss: 0.6877 - accuracy: 0.6150\n",
            "Epoch 12/50\n",
            "32/32 [==============================] - 0s 3ms/step - loss: 0.6873 - accuracy: 0.6550\n",
            "Epoch 13/50\n",
            "32/32 [==============================] - 0s 3ms/step - loss: 0.6869 - accuracy: 0.6790\n",
            "Epoch 14/50\n",
            "32/32 [==============================] - 0s 4ms/step - loss: 0.6861 - accuracy: 0.6880\n",
            "Epoch 15/50\n",
            "32/32 [==============================] - 0s 3ms/step - loss: 0.6855 - accuracy: 0.6860\n",
            "Epoch 16/50\n",
            "32/32 [==============================] - 0s 4ms/step - loss: 0.6849 - accuracy: 0.6830\n",
            "Epoch 17/50\n",
            "32/32 [==============================] - 0s 4ms/step - loss: 0.6841 - accuracy: 0.6250\n",
            "Epoch 18/50\n",
            "32/32 [==============================] - 0s 3ms/step - loss: 0.6834 - accuracy: 0.6520\n",
            "Epoch 19/50\n",
            "32/32 [==============================] - 0s 4ms/step - loss: 0.6826 - accuracy: 0.6710\n",
            "Epoch 20/50\n",
            "32/32 [==============================] - 0s 3ms/step - loss: 0.6815 - accuracy: 0.7020\n",
            "Epoch 21/50\n",
            "32/32 [==============================] - 0s 4ms/step - loss: 0.6805 - accuracy: 0.7450\n",
            "Epoch 22/50\n",
            "32/32 [==============================] - 0s 4ms/step - loss: 0.6795 - accuracy: 0.7580\n",
            "Epoch 23/50\n",
            "32/32 [==============================] - 0s 3ms/step - loss: 0.6782 - accuracy: 0.7640\n",
            "Epoch 24/50\n",
            "32/32 [==============================] - 0s 4ms/step - loss: 0.6767 - accuracy: 0.7980\n",
            "Epoch 25/50\n",
            "32/32 [==============================] - 0s 4ms/step - loss: 0.6749 - accuracy: 0.8250\n",
            "Epoch 26/50\n",
            "32/32 [==============================] - 0s 4ms/step - loss: 0.6734 - accuracy: 0.8130\n",
            "Epoch 27/50\n",
            "32/32 [==============================] - 0s 4ms/step - loss: 0.6714 - accuracy: 0.7690\n",
            "Epoch 28/50\n",
            "32/32 [==============================] - 0s 4ms/step - loss: 0.6694 - accuracy: 0.7800\n",
            "Epoch 29/50\n",
            "32/32 [==============================] - 0s 5ms/step - loss: 0.6665 - accuracy: 0.7910\n",
            "Epoch 30/50\n",
            "32/32 [==============================] - 0s 5ms/step - loss: 0.6640 - accuracy: 0.9040\n",
            "Epoch 31/50\n",
            "32/32 [==============================] - 0s 6ms/step - loss: 0.6609 - accuracy: 0.8760\n",
            "Epoch 32/50\n",
            "32/32 [==============================] - 0s 4ms/step - loss: 0.6574 - accuracy: 0.8270\n",
            "Epoch 33/50\n",
            "32/32 [==============================] - 0s 4ms/step - loss: 0.6533 - accuracy: 0.7730\n",
            "Epoch 34/50\n",
            "32/32 [==============================] - 0s 6ms/step - loss: 0.6489 - accuracy: 0.9430\n",
            "Epoch 35/50\n",
            "32/32 [==============================] - 0s 4ms/step - loss: 0.6434 - accuracy: 0.9560\n",
            "Epoch 36/50\n",
            "32/32 [==============================] - 0s 3ms/step - loss: 0.6382 - accuracy: 0.9390\n",
            "Epoch 37/50\n",
            "32/32 [==============================] - 0s 3ms/step - loss: 0.6321 - accuracy: 0.9680\n",
            "Epoch 38/50\n",
            "32/32 [==============================] - 0s 4ms/step - loss: 0.6248 - accuracy: 0.9500\n",
            "Epoch 39/50\n",
            "32/32 [==============================] - 0s 3ms/step - loss: 0.6166 - accuracy: 0.9800\n",
            "Epoch 40/50\n",
            "32/32 [==============================] - 0s 3ms/step - loss: 0.6078 - accuracy: 0.9530\n",
            "Epoch 41/50\n",
            "32/32 [==============================] - 0s 3ms/step - loss: 0.5980 - accuracy: 0.9530\n",
            "Epoch 42/50\n",
            "32/32 [==============================] - 0s 2ms/step - loss: 0.5871 - accuracy: 0.9610\n",
            "Epoch 43/50\n",
            "32/32 [==============================] - 0s 3ms/step - loss: 0.5754 - accuracy: 0.9610\n",
            "Epoch 44/50\n",
            "32/32 [==============================] - 0s 3ms/step - loss: 0.5621 - accuracy: 0.9610\n",
            "Epoch 45/50\n",
            "32/32 [==============================] - 0s 3ms/step - loss: 0.5484 - accuracy: 0.9770\n",
            "Epoch 46/50\n",
            "32/32 [==============================] - 0s 2ms/step - loss: 0.5332 - accuracy: 0.9730\n",
            "Epoch 47/50\n",
            "32/32 [==============================] - 0s 2ms/step - loss: 0.5171 - accuracy: 0.9780\n",
            "Epoch 48/50\n",
            "32/32 [==============================] - 0s 3ms/step - loss: 0.5007 - accuracy: 0.9760\n",
            "Epoch 49/50\n",
            "32/32 [==============================] - 0s 3ms/step - loss: 0.4833 - accuracy: 0.9740\n",
            "Epoch 50/50\n",
            "32/32 [==============================] - 0s 3ms/step - loss: 0.4654 - accuracy: 0.9800\n"
          ]
        }
      ]
    },
    {
      "cell_type": "code",
      "source": [
        "# Loss\n",
        "lst_lost = history.history['loss']\n",
        "fig, ax = plt.subplots()\n",
        "ax.plot(range(len(lst_lost)), lst_lost)\n",
        "ax.set(title='Costs', xlabel= 'iters', ylabel='cost')\n",
        "plt.show()"
      ],
      "metadata": {
        "colab": {
          "base_uri": "https://localhost:8080/",
          "height": 295
        },
        "id": "CemL3Xmm3VQc",
        "outputId": "fa76ab9c-cbe8-4450-d6a6-120404feaab1"
      },
      "execution_count": null,
      "outputs": [
        {
          "output_type": "display_data",
          "data": {
            "text/plain": [
              "<Figure size 432x288 with 1 Axes>"
            ],
            "image/png": "[encoded data removed]"
          },
          "metadata": {
            "needs_background": "light"
          }
        }
      ]
    },
    {
      "cell_type": "code",
      "source": [
        "# Predict X\n",
        "y_pred = model.predict(X)\n",
        "y_pred = np.where(y_pred < 0.5, 0, 1)\n",
        "y_pred = np.squeeze(y_pred.reshape([1, 1000]))"
      ],
      "metadata": {
        "id": "g5DdZwbStqf1"
      },
      "execution_count": null,
      "outputs": []
    },
    {
      "cell_type": "code",
      "source": [
        "# X, y = make_circles(n_samples = 1000, noise = 0.1, factor = 0.3)\n",
        "zero0 = np.where(y==0)[0]\n",
        "one1 = np.where(y==1)[0]\n",
        "zero0_pred = np.where(y_pred==0)[0]\n",
        "one1_pred = np.where(y_pred==1)[0]\n",
        "fig, [ax1, ax2] = plt.subplots(ncols=2, nrows=1, figsize=(15, 5))\n",
        "ax1.scatter(X[zero0, 0], X[zero0, 1], c='red', label=\"0\")\n",
        "ax1.scatter(X[one1, 0], X[one1, 1], c='blue', label=\"1\")\n",
        "ax1.set(title=\"Original\")\n",
        "ax1.legend()\n",
        "ax2.scatter(X[zero0_pred, 0], X[zero0_pred, 1], c='red', label=\"0\")\n",
        "ax2.scatter(X[one1_pred, 0], X[one1_pred, 1], c='blue', label=\"1\")\n",
        "ax2.set(title=\"Predict\")\n",
        "ax2.legend()\n",
        "plt.show()"
      ],
      "metadata": {
        "colab": {
          "base_uri": "https://localhost:8080/",
          "height": 336
        },
        "id": "z1Rq0MaAt5ul",
        "outputId": "5fc2b504-1d53-4da1-fffb-17996c92b8c7"
      },
      "execution_count": null,
      "outputs": [
        {
          "output_type": "display_data",
          "data": {
            "text/plain": [
              "<Figure size 1080x360 with 2 Axes>"
            ],
            "image/png": "[encoded data removed]"
          },
          "metadata": {
            "needs_background": "light"
          }
        }
      ]
    }
  ]
}